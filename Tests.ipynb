{
 "cells": [
  {
   "cell_type": "code",
   "execution_count": 1,
   "id": "0fe48f7a",
   "metadata": {},
   "outputs": [
    {
     "name": "stderr",
     "output_type": "stream",
     "text": [
      "c:\\Users\\dfnas\\OneDrive\\Documentos\\Pos Tech - Fiap\\Credit_Card_Fraud_Detection\\venv\\Lib\\site-packages\\tqdm\\auto.py:21: TqdmWarning: IProgress not found. Please update jupyter and ipywidgets. See https://ipywidgets.readthedocs.io/en/stable/user_install.html\n",
      "  from .autonotebook import tqdm as notebook_tqdm\n"
     ]
    }
   ],
   "source": [
    "import pandas as pd\n",
    "import json\n",
    "#Importação do Dataset\n",
    "import kagglehub\n",
    "\n",
    "try:\n",
    "    path = kagglehub.dataset_download(\"mlg-ulb/creditcardfraud\")\n",
    "    df = pd.read_csv(path + \"/creditcard.csv\")\n",
    "    \n",
    "except Exception as e:\n",
    "    df = pd.read_csv(\"creditcard.csv\")"
   ]
  },
  {
   "cell_type": "code",
   "execution_count": 3,
   "id": "bb922a35",
   "metadata": {},
   "outputs": [],
   "source": [
    "def extract_examples_to_json(df, clas, num_examples, ):\n",
    "    \"\"\"\n",
    "    Extrai transações do dataset no formato JSON para API\n",
    "    \n",
    "    Args:\n",
    "        df: DataFrame com os dados\n",
    "        class: classe do exemplo\n",
    "        num_examples: Número de exemplos para extrair\n",
    "    \"\"\"\n",
    "    \n",
    "    df_examples = df[df['Class'] == clas].head(num_examples)\n",
    "    \n",
    "    exemplos = []\n",
    "    \n",
    "    for i in range(min(num_examples, len(df_examples))):\n",
    "        linha = df_examples.iloc[i]\n",
    "        \n",
    "        # Criar dicionário no formato desejado\n",
    "        transacao = {\n",
    "            \"Time\": float(linha['Time']),\n",
    "            \"Amount\": float(linha['Amount']),\n",
    "            \"V1\": float(linha['V1']), \"V2\": float(linha['V2']), \"V3\": float(linha['V3']),\n",
    "            \"V4\": float(linha['V4']), \"V5\": float(linha['V5']), \"V6\": float(linha['V6']),\n",
    "            \"V7\": float(linha['V7']), \"V8\": float(linha['V8']), \"V9\": float(linha['V9']),\n",
    "            \"V10\": float(linha['V10']), \"V11\": float(linha['V11']), \"V12\": float(linha['V12']),\n",
    "            \"V13\": float(linha['V13']), \"V14\": float(linha['V14']), \"V15\": float(linha['V15']),\n",
    "            \"V16\": float(linha['V16']), \"V17\": float(linha['V17']), \"V18\": float(linha['V18']),\n",
    "            \"V19\": float(linha['V19']), \"V20\": float(linha['V20']), \"V21\": float(linha['V21']),\n",
    "            \"V22\": float(linha['V22']), \"V23\": float(linha['V23']), \"V24\": float(linha['V24']),\n",
    "            \"V25\": float(linha['V25']), \"V26\": float(linha['V26']), \"V27\": float(linha['V27']),\n",
    "            \"V28\": float(linha['V28'])\n",
    "        }\n",
    "        \n",
    "        exemplos.append(transacao)\n",
    "        \n",
    "        print(f\"\\nExemplo {i+1}:\")\n",
    "        print(f\"   Time: {linha['Time']}, Amount: {linha['Amount']:.2f}\")\n",
    "        print(\"   JSON:\")\n",
    "        print(json.dumps(transacao, indent=2))\n",
    "    \n",
    "    \n",
    "    return exemplos\n"
   ]
  },
  {
   "cell_type": "code",
   "execution_count": 6,
   "id": "c3156584",
   "metadata": {},
   "outputs": [
    {
     "name": "stdout",
     "output_type": "stream",
     "text": [
      "\n",
      "Exemplo 1:\n",
      "   Time: 0.0, Amount: 149.62\n",
      "   JSON:\n",
      "{\n",
      "  \"Time\": 0.0,\n",
      "  \"Amount\": 149.62,\n",
      "  \"V1\": -1.3598071336738,\n",
      "  \"V2\": -0.0727811733098497,\n",
      "  \"V3\": 2.53634673796914,\n",
      "  \"V4\": 1.37815522427443,\n",
      "  \"V5\": -0.338320769942518,\n",
      "  \"V6\": 0.462387777762292,\n",
      "  \"V7\": 0.239598554061257,\n",
      "  \"V8\": 0.0986979012610507,\n",
      "  \"V9\": 0.363786969611213,\n",
      "  \"V10\": 0.0907941719789316,\n",
      "  \"V11\": -0.551599533260813,\n",
      "  \"V12\": -0.617800855762348,\n",
      "  \"V13\": -0.991389847235408,\n",
      "  \"V14\": -0.311169353699879,\n",
      "  \"V15\": 1.46817697209427,\n",
      "  \"V16\": -0.470400525259478,\n",
      "  \"V17\": 0.207971241929242,\n",
      "  \"V18\": 0.0257905801985591,\n",
      "  \"V19\": 0.403992960255733,\n",
      "  \"V20\": 0.251412098239705,\n",
      "  \"V21\": -0.018306777944153,\n",
      "  \"V22\": 0.277837575558899,\n",
      "  \"V23\": -0.110473910188767,\n",
      "  \"V24\": 0.0669280749146731,\n",
      "  \"V25\": 0.128539358273528,\n",
      "  \"V26\": -0.189114843888824,\n",
      "  \"V27\": 0.133558376740387,\n",
      "  \"V28\": -0.0210530534538215\n",
      "}\n"
     ]
    },
    {
     "data": {
      "text/plain": [
       "[{'Time': 0.0,\n",
       "  'Amount': 149.62,\n",
       "  'V1': -1.3598071336738,\n",
       "  'V2': -0.0727811733098497,\n",
       "  'V3': 2.53634673796914,\n",
       "  'V4': 1.37815522427443,\n",
       "  'V5': -0.338320769942518,\n",
       "  'V6': 0.462387777762292,\n",
       "  'V7': 0.239598554061257,\n",
       "  'V8': 0.0986979012610507,\n",
       "  'V9': 0.363786969611213,\n",
       "  'V10': 0.0907941719789316,\n",
       "  'V11': -0.551599533260813,\n",
       "  'V12': -0.617800855762348,\n",
       "  'V13': -0.991389847235408,\n",
       "  'V14': -0.311169353699879,\n",
       "  'V15': 1.46817697209427,\n",
       "  'V16': -0.470400525259478,\n",
       "  'V17': 0.207971241929242,\n",
       "  'V18': 0.0257905801985591,\n",
       "  'V19': 0.403992960255733,\n",
       "  'V20': 0.251412098239705,\n",
       "  'V21': -0.018306777944153,\n",
       "  'V22': 0.277837575558899,\n",
       "  'V23': -0.110473910188767,\n",
       "  'V24': 0.0669280749146731,\n",
       "  'V25': 0.128539358273528,\n",
       "  'V26': -0.189114843888824,\n",
       "  'V27': 0.133558376740387,\n",
       "  'V28': -0.0210530534538215}]"
      ]
     },
     "execution_count": 6,
     "metadata": {},
     "output_type": "execute_result"
    }
   ],
   "source": [
    "#Gerar exemplos da classe 0 - Normais\n",
    "extract_examples_to_json(df, 0, 1)\n",
    "\n",
    "#Gerar exemplos da classe 1 - Fraudes\n",
    "#extract_examples_to_json(df, 1, 2)"
   ]
  }
 ],
 "metadata": {
  "kernelspec": {
   "display_name": "venv",
   "language": "python",
   "name": "python3"
  },
  "language_info": {
   "codemirror_mode": {
    "name": "ipython",
    "version": 3
   },
   "file_extension": ".py",
   "mimetype": "text/x-python",
   "name": "python",
   "nbconvert_exporter": "python",
   "pygments_lexer": "ipython3",
   "version": "3.13.0"
  }
 },
 "nbformat": 4,
 "nbformat_minor": 5
}
